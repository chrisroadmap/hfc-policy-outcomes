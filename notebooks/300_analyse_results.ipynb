{
 "cells": [
  {
   "cell_type": "markdown",
   "id": "65d4c691",
   "metadata": {},
   "source": [
    "# Analyse scenarios\n",
    "\n",
    "We focus on temperature deltas arising from notebook 200 compared to \"baseline\""
   ]
  },
  {
   "cell_type": "code",
   "execution_count": null,
   "id": "598e9f35",
   "metadata": {},
   "outputs": [],
   "source": [
    "import h5py\n",
    "import matplotlib.pyplot as pl\n",
    "import numpy as np\n",
    "from climateforcing.utils import mkdir_p"
   ]
  },
  {
   "cell_type": "code",
   "execution_count": null,
   "id": "96ff8d79",
   "metadata": {},
   "outputs": [],
   "source": [
    "def load_dict_from_hdf5(filename):\n",
    "    \"\"\"\n",
    "    ....\n",
    "    \"\"\"\n",
    "    with h5py.File(filename, 'r') as h5file:\n",
    "        return recursively_load_dict_contents_from_group(h5file, '/')\n",
    "\n",
    "def recursively_load_dict_contents_from_group(h5file, path):\n",
    "    \"\"\"\n",
    "    ....\n",
    "    \"\"\"\n",
    "    ans = {}\n",
    "    for key, item in h5file[path].items():\n",
    "        if isinstance(item, h5py._hl.dataset.Dataset):\n",
    "            ans[key] = item[:]\n",
    "        elif isinstance(item, h5py._hl.group.Group):\n",
    "            ans[key] = recursively_load_dict_contents_from_group(h5file, path + key + '/')\n",
    "    return ans"
   ]
  },
  {
   "cell_type": "code",
   "execution_count": null,
   "id": "db0f54f7",
   "metadata": {},
   "outputs": [],
   "source": [
    "results_in = load_dict_from_hdf5('../data_output_large/fair-ensemble.h5')"
   ]
  },
  {
   "cell_type": "code",
   "execution_count": null,
   "id": "6b72c124",
   "metadata": {},
   "outputs": [],
   "source": [
    "results_in['baseline']['HFC125 radiative forcing'][260:, 0]"
   ]
  },
  {
   "cell_type": "code",
   "execution_count": null,
   "id": "0ae3cd1b",
   "metadata": {},
   "outputs": [],
   "source": [
    "results_in['ssp245']['HFC125 radiative forcing'][260:, 0]"
   ]
  },
  {
   "cell_type": "code",
   "execution_count": null,
   "id": "ac2a990c",
   "metadata": {},
   "outputs": [],
   "source": [
    "scenarios = [\"ssp245\", \"baseline\", \"hfc-32\", \"propane-as-slcf\"]\n",
    "variables = ['temperature (relative to 1850-1900)', 'HFC32 radiative forcing', 'HFC125 radiative forcing',\n",
    "      'HCFC22 radiative forcing',\n",
    "       'O3 radiative forcing',\n",
    "       'total radiative forcing']"
   ]
  },
  {
   "cell_type": "code",
   "execution_count": null,
   "id": "2747fb11",
   "metadata": {},
   "outputs": [],
   "source": [
    "fig, ax = pl.subplots(2, 3, figsize=(16,10))\n",
    "\n",
    "colors = {\n",
    "    \"hfc-32\": 'tab:orange',\n",
    "    \"propane-as-slcf\": 'tab:blue', \n",
    "}\n",
    "\n",
    "for ivar, variable in enumerate(variables):\n",
    "    for scenario in scenarios[2:]:\n",
    "        ax[ivar//3, ivar%3].fill_between(\n",
    "            np.arange(2010, 2101), \n",
    "            np.percentile(results_in[scenario][variable][260:351,:]-results_in['baseline'][variable][260:351,:], 5, axis=1),\n",
    "            np.percentile(results_in[scenario][variable][260:351,:]-results_in['baseline'][variable][260:351,:], 95, axis=1),\n",
    "            color=colors[scenario],\n",
    "            alpha=0.3\n",
    "        )\n",
    "        ax[ivar//3, ivar%3].plot(\n",
    "            np.arange(2010, 2101), \n",
    "            np.median(results_in[scenario][variable][260:351,:]-results_in['baseline'][variable][260:351,:], axis=1),\n",
    "            label=scenario,\n",
    "            color=colors[scenario]\n",
    "        )\n",
    "        ax[ivar//3, ivar%3].set_title(variable)\n",
    "ax[0,0].legend()\n",
    "\n",
    "mkdir_p('../plots/')\n",
    "fig.set_facecolor('white')\n",
    "pl.savefig('../plots/scenario-comparisons.png')"
   ]
  },
  {
   "cell_type": "code",
   "execution_count": null,
   "id": "d84961c9",
   "metadata": {},
   "outputs": [],
   "source": [
    "pl.rcParams['font.size'] = 11\n",
    "pl.rcParams['figure.dpi'] = 300\n",
    "pl.rcParams['font.family'] = 'Arial'\n",
    "pl.rcParams['ytick.direction'] = 'out'\n",
    "pl.rcParams['ytick.minor.visible'] = True\n",
    "pl.rcParams['ytick.right'] = True\n",
    "pl.rcParams['xtick.minor.visible'] = True\n",
    "pl.rcParams['xtick.top'] = True\n",
    "pl.rcParams['figure.facecolor'] = 'white'"
   ]
  },
  {
   "cell_type": "code",
   "execution_count": null,
   "id": "608c1f47",
   "metadata": {},
   "outputs": [],
   "source": [
    "fig, ax = pl.subplots(1, 1, figsize=(9/2.54,9/2.54))\n",
    "\n",
    "scen_names = {\n",
    "    \"hfc-32\": 'HFC-32 scenario',\n",
    "    \"propane-as-slcf\": 'Propane scenario', \n",
    "}\n",
    "\n",
    "variable = 'temperature (relative to 1850-1900)'\n",
    "for scenario in scenarios[2:]:\n",
    "    ax.fill_between(\n",
    "        np.arange(2010, 2101), \n",
    "        np.percentile(results_in[scenario][variable][260:351,:]-results_in['baseline'][variable][260:351,:], 5, axis=1),\n",
    "        np.percentile(results_in[scenario][variable][260:351,:]-results_in['baseline'][variable][260:351,:], 95, axis=1),\n",
    "        color=colors[scenario],\n",
    "        alpha=0.3\n",
    "    )\n",
    "    ax.plot(\n",
    "        np.arange(2010, 2101), \n",
    "        np.median(results_in[scenario][variable][260:351,:]-results_in['baseline'][variable][260:351,:], axis=1),\n",
    "        label=scen_names[scenario],\n",
    "        color=colors[scenario]\n",
    "    )\n",
    "    ax.set_title('Global mean temperature difference')\n",
    "ax.legend()\n",
    "\n",
    "ax.axhline(0, ls=':', color='k', lw=0.5)\n",
    "ax.set_ylim(-0.13, 0.01)\n",
    "ax.set_xlim(2020, 2100)\n",
    "ax.set_ylabel('°C relative to HFC-410A baseline')\n",
    "\n",
    "\n",
    "mkdir_p('../plots/')\n",
    "fig.set_facecolor('white')\n",
    "pl.tight_layout()\n",
    "pl.savefig('../plots/scenario-comparisons-temperature.png')"
   ]
  },
  {
   "cell_type": "code",
   "execution_count": null,
   "id": "f304d1cf",
   "metadata": {},
   "outputs": [],
   "source": []
  }
 ],
 "metadata": {
  "kernelspec": {
   "display_name": "Python 3 (ipykernel)",
   "language": "python",
   "name": "python3"
  },
  "language_info": {
   "codemirror_mode": {
    "name": "ipython",
    "version": 3
   },
   "file_extension": ".py",
   "mimetype": "text/x-python",
   "name": "python",
   "nbconvert_exporter": "python",
   "pygments_lexer": "ipython3",
   "version": "3.10.4"
  }
 },
 "nbformat": 4,
 "nbformat_minor": 5
}
