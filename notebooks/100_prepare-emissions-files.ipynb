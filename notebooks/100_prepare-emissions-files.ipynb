{
 "cells": [
  {
   "cell_type": "markdown",
   "id": "c0397fd7",
   "metadata": {},
   "source": [
    "# Prepare emissions files\n",
    "\n",
    "Here we take the ssp245 scenario as a baseline, and modify the emissions based on each policy option. We care about temperature deltas in each case. Therefore underlying SSP choice will have some effect due to temperature impacts on carbon cycle and atmsopheric chemistry feedbacks, but not likely to be very large."
   ]
  },
  {
   "cell_type": "code",
   "execution_count": null,
   "id": "0fdaa6f5",
   "metadata": {},
   "outputs": [],
   "source": [
    "import copy\n",
    "\n",
    "from climateforcing.utils import mkdir_p\n",
    "import matplotlib.pyplot as pl\n",
    "import numpy as np\n",
    "import pandas as pd\n",
    "from scipy.interpolate import interp1d"
   ]
  },
  {
   "cell_type": "markdown",
   "id": "4817f7d6",
   "metadata": {},
   "source": [
    "## Create baseline scenarios\n",
    "\n",
    "SSP2-4.5, plus modifications thereof"
   ]
  },
  {
   "cell_type": "code",
   "execution_count": null,
   "id": "35c94b98",
   "metadata": {},
   "outputs": [],
   "source": [
    "emissions_out = {}\n",
    "scenarios = [\"ssp245\", \"baseline\", \"hfc-32\", \"propane\", \"propane-as-slcf\"]"
   ]
  },
  {
   "cell_type": "code",
   "execution_count": null,
   "id": "b39cf64e",
   "metadata": {},
   "outputs": [],
   "source": [
    "ssp_df = pd.read_csv('../data_input_large/rcmip-emissions-annual-means-v5-1-0.csv')"
   ]
  },
  {
   "cell_type": "code",
   "execution_count": null,
   "id": "b95fd3ff",
   "metadata": {},
   "outputs": [],
   "source": [
    "ssp_df.loc[\n",
    "    (ssp_df['Model']=='MESSAGE-GLOBIOM')&\n",
    "    (ssp_df['Region']=='World')&\n",
    "    (ssp_df['Scenario']=='ssp245')&\n",
    "    (ssp_df['Variable'].str.endswith('|HFC125')),'2015':'2110':5\n",
    "]"
   ]
  },
  {
   "cell_type": "code",
   "execution_count": null,
   "id": "3e4b0ece",
   "metadata": {},
   "outputs": [],
   "source": [
    "ssp_df.loc[\n",
    "    (ssp_df['Model']=='MESSAGE-GLOBIOM')&\n",
    "    (ssp_df['Region']=='World')&\n",
    "    (ssp_df['Scenario']=='ssp245')&\n",
    "    (ssp_df['Variable'].str.endswith('|HCFC22')),'2015':'2110':5\n",
    "]"
   ]
  },
  {
   "cell_type": "code",
   "execution_count": null,
   "id": "195a5aed",
   "metadata": {},
   "outputs": [],
   "source": [
    "ssp_df.loc[\n",
    "    (ssp_df['Model']=='MESSAGE-GLOBIOM')&\n",
    "    (ssp_df['Region']=='World')&\n",
    "    (ssp_df['Scenario']=='ssp245')&\n",
    "    (ssp_df['Variable'].str.endswith('|HFC32')),'2015':'2110':5\n",
    "]"
   ]
  },
  {
   "cell_type": "code",
   "execution_count": null,
   "id": "92e9af41",
   "metadata": {},
   "outputs": [],
   "source": [
    "ssp_df.loc[\n",
    "    (ssp_df['Model']=='MESSAGE-GLOBIOM')&\n",
    "    (ssp_df['Region']=='World')&\n",
    "    (ssp_df['Scenario']=='ssp245')&\n",
    "    (ssp_df['Variable'].str.endswith('|VOC')),'2015':'2110':5\n",
    "]"
   ]
  },
  {
   "cell_type": "code",
   "execution_count": null,
   "id": "9bbdb5a0",
   "metadata": {},
   "outputs": [],
   "source": [
    "years = np.arange(1750, 2111)\n",
    "\n",
    "startyear = 1750\n",
    "first_scenyear = 2015\n",
    "last_scenyear = 2110\n",
    "first_row = int(first_scenyear-startyear)\n",
    "last_row = int(last_scenyear-startyear)\n",
    "\n",
    "species = [  # in fair 1.6, order is important\n",
    "    '|CO2|MAGICC Fossil and Industrial',\n",
    "    '|CO2|MAGICC AFOLU',\n",
    "    '|CH4',\n",
    "    '|N2O',\n",
    "    '|Sulfur',\n",
    "    '|CO',\n",
    "    '|VOC', # 7\n",
    "    '|NOx',\n",
    "    '|BC',\n",
    "    '|OC',\n",
    "    '|NH3',\n",
    "    '|CF4',\n",
    "    '|C2F6',\n",
    "    '|C6F14',\n",
    "    '|HFC23',\n",
    "    '|HFC32',  # 16\n",
    "    '|HFC4310mee',\n",
    "    '|HFC125', # 18\n",
    "    '|HFC134a',\n",
    "    '|HFC143a',\n",
    "    '|HFC227ea',\n",
    "    '|HFC245fa',\n",
    "    '|SF6',\n",
    "    '|CFC11',\n",
    "    '|CFC12',\n",
    "    '|CFC113',\n",
    "    '|CFC114',\n",
    "    '|CFC115',\n",
    "    '|CCl4',\n",
    "    '|CH3CCl3',\n",
    "    '|HCFC22',  # 31\n",
    "    '|HCFC141b',\n",
    "    '|HCFC142b',\n",
    "    '|Halon1211',\n",
    "    '|Halon1202',\n",
    "    '|Halon1301',\n",
    "    '|Halon2402',\n",
    "    '|CH3Br',\n",
    "    '|CH3Cl',\n",
    "]\n",
    "\n",
    "unit_convert = np.ones(40)\n",
    "unit_convert[1] = 12/44/1000\n",
    "unit_convert[2] = 12/44/1000\n",
    "unit_convert[4] = 28/44/1000\n",
    "unit_convert[5] = 32/64\n",
    "unit_convert[8] = 14/46\n",
    "\n",
    "for scenario in scenarios:\n",
    "    emissions_out[scenario] = np.ones((361, 40)) * np.nan\n",
    "    emissions_out[scenario][:,0] = years\n",
    "\n",
    "    years_future = [2015] + list(range(2020,2111,10))\n",
    "    for i, specie in enumerate(species):\n",
    "        emissions_out[scenario][:first_row,i+1] = ssp_df.loc[\n",
    "            (ssp_df['Model']=='MESSAGE-GLOBIOM')&\n",
    "            (ssp_df['Region']=='World')&\n",
    "            (ssp_df['Scenario']=='ssp245')&\n",
    "            (ssp_df['Variable'].str.endswith(specie)),str(startyear):'2014']*unit_convert[i+1]\n",
    "        f = interp1d(years_future, ssp_df.loc[\n",
    "            (ssp_df['Model']=='MESSAGE-GLOBIOM')&\n",
    "            (ssp_df['Region']=='World')&\n",
    "            (ssp_df['Scenario']=='ssp245')&\n",
    "            (ssp_df['Variable'].str.endswith(specie)),'2015':'2110'].dropna(axis=1))\n",
    "        emissions_out[scenario][first_row:(last_row+1), i+1] = f(\n",
    "            np.arange(first_scenyear, last_scenyear+1)\n",
    "        )*unit_convert[i+1]"
   ]
  },
  {
   "cell_type": "markdown",
   "id": "0ca43766",
   "metadata": {},
   "source": [
    "## Modify the emissions of the HFC modification scenarios"
   ]
  },
  {
   "cell_type": "code",
   "execution_count": null,
   "id": "b8d89f19",
   "metadata": {},
   "outputs": [],
   "source": [
    "df_ac = pd.read_excel('../data_input/Split-AC_sector_emissions.xlsx')"
   ]
  },
  {
   "cell_type": "code",
   "execution_count": null,
   "id": "ad9b13aa",
   "metadata": {},
   "outputs": [],
   "source": [
    "year = np.array(df_ac.iloc[4, 3:].values, dtype=float)"
   ]
  },
  {
   "cell_type": "code",
   "execution_count": null,
   "id": "c61c1974",
   "metadata": {},
   "outputs": [],
   "source": [
    "year"
   ]
  },
  {
   "cell_type": "code",
   "execution_count": null,
   "id": "b9574347",
   "metadata": {},
   "outputs": [],
   "source": [
    "df_ac.iloc[5:9, ]"
   ]
  },
  {
   "cell_type": "code",
   "execution_count": null,
   "id": "60550ad5",
   "metadata": {},
   "outputs": [],
   "source": [
    "hcfc22 = np.array(df_ac.iloc[5, 3:].values, dtype=float)\n",
    "hfc125 = np.array(df_ac.iloc[6, 3:].values, dtype=float)\n",
    "hfc32 = np.array(df_ac.iloc[7, 3:].values, dtype=float)\n",
    "c3h8 = np.array(df_ac.iloc[8, 3:].values, dtype=float)"
   ]
  },
  {
   "cell_type": "code",
   "execution_count": null,
   "id": "d2dda90b",
   "metadata": {},
   "outputs": [],
   "source": [
    "f = interp1d(year, hcfc22)\n",
    "emissions_out['baseline'][267:351, 31] = f(np.arange(2017, 2101))\n",
    "f = interp1d(year, hfc125)\n",
    "emissions_out['baseline'][267:351, 18] = f(np.arange(2017, 2101))\n",
    "f = interp1d(year, hfc32)\n",
    "emissions_out['baseline'][267:351, 16] = f(np.arange(2017, 2101))\n",
    "#f = interp1d(year, c3h8)\n",
    "#emissions_out['baseline'][267:351] = f(np.arange(2017, 2101))"
   ]
  },
  {
   "cell_type": "code",
   "execution_count": null,
   "id": "87233a64",
   "metadata": {},
   "outputs": [],
   "source": [
    "df_ac.iloc[15:19, ]"
   ]
  },
  {
   "cell_type": "code",
   "execution_count": null,
   "id": "3bb60cb4",
   "metadata": {},
   "outputs": [],
   "source": [
    "hcfc22 = np.array(df_ac.iloc[15, 3:].values, dtype=float)\n",
    "hfc125 = np.array(df_ac.iloc[16, 3:].values, dtype=float)\n",
    "hfc32 = np.array(df_ac.iloc[17, 3:].values, dtype=float)\n",
    "c3h8 = np.array(df_ac.iloc[18, 3:].values, dtype=float)"
   ]
  },
  {
   "cell_type": "code",
   "execution_count": null,
   "id": "aa80fa15",
   "metadata": {},
   "outputs": [],
   "source": [
    "f = interp1d(year, hcfc22)\n",
    "emissions_out['hfc-32'][267:351, 31] = f(np.arange(2017, 2101))\n",
    "f = interp1d(year, hfc125)\n",
    "emissions_out['hfc-32'][267:351, 18] = f(np.arange(2017, 2101))\n",
    "f = interp1d(year, hfc32)\n",
    "emissions_out['hfc-32'][267:351, 16] = f(np.arange(2017, 2101))\n",
    "#f = interp1d(year, c3h8)\n",
    "#emissions_out['baseline'][267:351] = f(np.arange(2017, 2101))"
   ]
  },
  {
   "cell_type": "code",
   "execution_count": null,
   "id": "80f88faa",
   "metadata": {},
   "outputs": [],
   "source": [
    "df_ac.iloc[25:29, ]"
   ]
  },
  {
   "cell_type": "code",
   "execution_count": null,
   "id": "9be64a15",
   "metadata": {},
   "outputs": [],
   "source": [
    "hcfc22 = np.array(df_ac.iloc[25, 3:].values, dtype=float)\n",
    "hfc125 = np.array(df_ac.iloc[26, 3:].values, dtype=float)\n",
    "hfc32 = np.array(df_ac.iloc[27, 3:].values, dtype=float)\n",
    "c3h8 = np.array(df_ac.iloc[28, 3:].values, dtype=float)"
   ]
  },
  {
   "cell_type": "code",
   "execution_count": null,
   "id": "d126072c",
   "metadata": {},
   "outputs": [],
   "source": [
    "f = interp1d(year, hcfc22)\n",
    "emissions_out['propane'][267:351, 31] = f(np.arange(2017, 2101))\n",
    "emissions_out['propane-as-slcf'][267:351, 31] = f(np.arange(2017, 2101))\n",
    "f = interp1d(year, hfc125)\n",
    "emissions_out['propane'][267:351, 18] = f(np.arange(2017, 2101))\n",
    "emissions_out['propane-as-slcf'][267:351, 18] = f(np.arange(2017, 2101))\n",
    "f = interp1d(year, hfc32)\n",
    "emissions_out['propane'][267:351, 16] = f(np.arange(2017, 2101))\n",
    "emissions_out['propane-as-slcf'][267:351, 16] = f(np.arange(2017, 2101))\n",
    "\n",
    "f = interp1d(year, c3h8 / 1000)  # original dataset is kt/yr, fair input is Mt/yr\n",
    "# from correspondence with Steve Smith, all VOC emissions are aggregated and there does not seem to be any\n",
    "# weighting for chemical effect, radiative efficiency, etc. so we can just add C3H8 emissions to total VOCs\n",
    "# in the counterfactual\n",
    "emissions_out['propane-as-slcf'][267:351, 7] = f(np.arange(2017, 2101)) + emissions_out['ssp245'][267:351, 7]"
   ]
  },
  {
   "cell_type": "code",
   "execution_count": null,
   "id": "89449622",
   "metadata": {},
   "outputs": [],
   "source": [
    "pl.plot(np.arange(2010, 2101), emissions_out['ssp245'][260:351, 31])\n",
    "pl.plot(np.arange(2010, 2101), emissions_out['baseline'][260:351, 31])\n",
    "pl.plot(np.arange(2010, 2101), emissions_out['hfc-32'][260:351, 31])\n",
    "pl.plot(np.arange(2010, 2101), emissions_out['propane'][260:351, 31])\n",
    "pl.plot(np.arange(2010, 2101), emissions_out['propane-as-slcf'][260:351, 31])\n",
    "pl.title('HCFC22 emissions')"
   ]
  },
  {
   "cell_type": "code",
   "execution_count": null,
   "id": "d6397238",
   "metadata": {},
   "outputs": [],
   "source": [
    "pl.plot(np.arange(2010, 2101), emissions_out['ssp245'][260:351, 18])\n",
    "pl.plot(np.arange(2010, 2101), emissions_out['baseline'][260:351, 18])\n",
    "pl.plot(np.arange(2010, 2101), emissions_out['hfc-32'][260:351, 18])\n",
    "pl.plot(np.arange(2010, 2101), emissions_out['propane'][260:351, 18])\n",
    "pl.plot(np.arange(2010, 2101), emissions_out['propane-as-slcf'][260:351, 18])\n",
    "pl.title('HFC125 emissions')"
   ]
  },
  {
   "cell_type": "code",
   "execution_count": null,
   "id": "e7cb5b59",
   "metadata": {},
   "outputs": [],
   "source": [
    "pl.plot(np.arange(2010, 2101), emissions_out['ssp245'][260:351, 16])\n",
    "pl.plot(np.arange(2010, 2101), emissions_out['baseline'][260:351, 16])\n",
    "pl.plot(np.arange(2010, 2101), emissions_out['hfc-32'][260:351, 16])\n",
    "pl.plot(np.arange(2010, 2101), emissions_out['propane'][260:351, 16])\n",
    "pl.plot(np.arange(2010, 2101), emissions_out['propane-as-slcf'][260:351, 16])\n",
    "pl.title('HFC32 emissions')"
   ]
  },
  {
   "cell_type": "code",
   "execution_count": null,
   "id": "e0997c17",
   "metadata": {},
   "outputs": [],
   "source": [
    "pl.plot(np.arange(2010, 2101), emissions_out['ssp245'][260:351, 7])\n",
    "pl.plot(np.arange(2010, 2101), emissions_out['baseline'][260:351, 7])\n",
    "pl.plot(np.arange(2010, 2101), emissions_out['hfc-32'][260:351, 7])\n",
    "pl.plot(np.arange(2010, 2101), emissions_out['propane'][260:351, 7])\n",
    "pl.plot(np.arange(2010, 2101), emissions_out['propane-as-slcf'][260:351, 7])\n",
    "pl.title('VOC emissions')"
   ]
  },
  {
   "cell_type": "code",
   "execution_count": null,
   "id": "4b050652",
   "metadata": {},
   "outputs": [],
   "source": [
    "mkdir_p('../data_output/fair_emissions_files/')\n",
    "for scenario in scenarios:\n",
    "    np.savetxt('../data_output/fair_emissions_files/{}.csv'.format(scenario), emissions_out[scenario], delimiter=',')"
   ]
  },
  {
   "cell_type": "code",
   "execution_count": null,
   "id": "8f110d2a",
   "metadata": {},
   "outputs": [],
   "source": []
  }
 ],
 "metadata": {
  "kernelspec": {
   "display_name": "Python 3 (ipykernel)",
   "language": "python",
   "name": "python3"
  },
  "language_info": {
   "codemirror_mode": {
    "name": "ipython",
    "version": 3
   },
   "file_extension": ".py",
   "mimetype": "text/x-python",
   "name": "python",
   "nbconvert_exporter": "python",
   "pygments_lexer": "ipython3",
   "version": "3.10.4"
  }
 },
 "nbformat": 4,
 "nbformat_minor": 5
}
