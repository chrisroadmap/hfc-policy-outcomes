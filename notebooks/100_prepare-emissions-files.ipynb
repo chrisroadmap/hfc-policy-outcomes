{
 "cells": [
  {
   "cell_type": "markdown",
   "id": "f0caea69",
   "metadata": {},
   "source": [
    "# Prepare emissions files\n",
    "\n",
    "Here we take the ssp245 scenario as a baseline, and modify the emissions based on each policy option. We care about temperature deltas in each case. Therefore underlying SSP choice will have some effect due to temperature impacts on carbon cycle and atmsopheric chemistry feedbacks, but not likely to be very large."
   ]
  },
  {
   "cell_type": "code",
   "execution_count": null,
   "id": "7b66be6d",
   "metadata": {},
   "outputs": [],
   "source": [
    "import copy\n",
    "\n",
    "from climateforcing.utils import mkdir_p\n",
    "import matplotlib.pyplot as pl\n",
    "import numpy as np\n",
    "import pandas as pd\n",
    "from scipy.interpolate import interp1d"
   ]
  },
  {
   "cell_type": "markdown",
   "id": "d1243f3a",
   "metadata": {},
   "source": [
    "## Create baseline scenarios\n",
    "\n",
    "SSP2-4.5, plus modifications thereof"
   ]
  },
  {
   "cell_type": "code",
   "execution_count": null,
   "id": "fabb65ab",
   "metadata": {},
   "outputs": [],
   "source": [
    "emissions_out = {}\n",
    "scenarios = [\"ssp245\", \"baseline\", \"hfc-32\", \"propane\", \"propane-as-slcf\"]"
   ]
  },
  {
   "cell_type": "code",
   "execution_count": null,
   "id": "8187f383",
   "metadata": {},
   "outputs": [],
   "source": [
    "ssp_df.loc[\n",
    "    (ssp_df['Model']=='MESSAGE-GLOBIOM')&\n",
    "    (ssp_df['Region']=='World')&\n",
    "    (ssp_df['Scenario']=='ssp245')&\n",
    "    (ssp_df['Variable'].str.endswith('|HFC125')),'2015':'2110':5\n",
    "]"
   ]
  },
  {
   "cell_type": "code",
   "execution_count": null,
   "id": "ed8a88c7",
   "metadata": {},
   "outputs": [],
   "source": [
    "ssp_df.loc[\n",
    "    (ssp_df['Model']=='MESSAGE-GLOBIOM')&\n",
    "    (ssp_df['Region']=='World')&\n",
    "    (ssp_df['Scenario']=='ssp245')&\n",
    "    (ssp_df['Variable'].str.endswith('|HCFC22')),'2015':'2110':5\n",
    "]"
   ]
  },
  {
   "cell_type": "code",
   "execution_count": null,
   "id": "931fdd55",
   "metadata": {},
   "outputs": [],
   "source": [
    "ssp_df.loc[\n",
    "    (ssp_df['Model']=='MESSAGE-GLOBIOM')&\n",
    "    (ssp_df['Region']=='World')&\n",
    "    (ssp_df['Scenario']=='ssp245')&\n",
    "    (ssp_df['Variable'].str.endswith('|HFC32')),'2015':'2110':5\n",
    "]"
   ]
  },
  {
   "cell_type": "code",
   "execution_count": null,
   "id": "3c4095a4",
   "metadata": {},
   "outputs": [],
   "source": [
    "ssp_df.loc[\n",
    "    (ssp_df['Model']=='MESSAGE-GLOBIOM')&\n",
    "    (ssp_df['Region']=='World')&\n",
    "    (ssp_df['Scenario']=='ssp245')&\n",
    "    (ssp_df['Variable'].str.endswith('|VOC')),'2015':'2110':5\n",
    "]"
   ]
  },
  {
   "cell_type": "code",
   "execution_count": null,
   "id": "9e39004f",
   "metadata": {},
   "outputs": [],
   "source": [
    "ssp_df = pd.read_csv('../data_input_large/rcmip-emissions-annual-means-v5-1-0.csv')\n",
    "years = np.arange(1750, 2111)\n",
    "\n",
    "startyear = 1750\n",
    "first_scenyear = 2015\n",
    "last_scenyear = 2110\n",
    "first_row = int(first_scenyear-startyear)\n",
    "last_row = int(last_scenyear-startyear)\n",
    "\n",
    "species = [  # in fair 1.6, order is important\n",
    "    '|CO2|MAGICC Fossil and Industrial',\n",
    "    '|CO2|MAGICC AFOLU',\n",
    "    '|CH4',\n",
    "    '|N2O',\n",
    "    '|Sulfur',\n",
    "    '|CO',\n",
    "    '|VOC', # 7\n",
    "    '|NOx',\n",
    "    '|BC',\n",
    "    '|OC',\n",
    "    '|NH3',\n",
    "    '|CF4',\n",
    "    '|C2F6',\n",
    "    '|C6F14',\n",
    "    '|HFC23',\n",
    "    '|HFC32',  # 16\n",
    "    '|HFC4310mee',\n",
    "    '|HFC125', # 18\n",
    "    '|HFC134a',\n",
    "    '|HFC143a',\n",
    "    '|HFC227ea',\n",
    "    '|HFC245fa',\n",
    "    '|SF6',\n",
    "    '|CFC11',\n",
    "    '|CFC12',\n",
    "    '|CFC113',\n",
    "    '|CFC114',\n",
    "    '|CFC115',\n",
    "    '|CCl4',\n",
    "    '|CH3CCl3',\n",
    "    '|HCFC22',  # 31\n",
    "    '|HCFC141b',\n",
    "    '|HCFC142b',\n",
    "    '|Halon1211',\n",
    "    '|Halon1202',\n",
    "    '|Halon1301',\n",
    "    '|Halon2402',\n",
    "    '|CH3Br',\n",
    "    '|CH3Cl',\n",
    "]\n",
    "\n",
    "unit_convert = np.ones(40)\n",
    "unit_convert[1] = 12/44/1000\n",
    "unit_convert[2] = 12/44/1000\n",
    "unit_convert[4] = 28/44/1000\n",
    "unit_convert[5] = 32/64\n",
    "unit_convert[8] = 14/46\n",
    "\n",
    "for scenario in scenarios:\n",
    "    emissions_out[scenario] = np.ones((361, 40)) * np.nan\n",
    "    emissions_out[scenario][:,0] = years\n",
    "\n",
    "    years_future = [2015] + list(range(2020,2111,10))\n",
    "    for i, specie in enumerate(species):\n",
    "        emissions_out[scenario][:first_row,i+1] = ssp_df.loc[\n",
    "            (ssp_df['Model']=='MESSAGE-GLOBIOM')&\n",
    "            (ssp_df['Region']=='World')&\n",
    "            (ssp_df['Scenario']=='ssp245')&\n",
    "            (ssp_df['Variable'].str.endswith(specie)),str(startyear):'2014']*unit_convert[i+1]\n",
    "        f = interp1d(years_future, ssp_df.loc[\n",
    "            (ssp_df['Model']=='MESSAGE-GLOBIOM')&\n",
    "            (ssp_df['Region']=='World')&\n",
    "            (ssp_df['Scenario']=='ssp245')&\n",
    "            (ssp_df['Variable'].str.endswith(specie)),'2015':'2110'].dropna(axis=1))\n",
    "        emissions_out[scenario][first_row:(last_row+1), i+1] = f(\n",
    "            np.arange(first_scenyear, last_scenyear+1)\n",
    "        )*unit_convert[i+1]"
   ]
  },
  {
   "cell_type": "markdown",
   "id": "c2ba052e",
   "metadata": {},
   "source": [
    "## Modify the emissions of the HFC modification scenarios"
   ]
  },
  {
   "cell_type": "code",
   "execution_count": null,
   "id": "9d2b9c1e",
   "metadata": {},
   "outputs": [],
   "source": []
  }
 ],
 "metadata": {
  "kernelspec": {
   "display_name": "Python 3 (ipykernel)",
   "language": "python",
   "name": "python3"
  },
  "language_info": {
   "codemirror_mode": {
    "name": "ipython",
    "version": 3
   },
   "file_extension": ".py",
   "mimetype": "text/x-python",
   "name": "python",
   "nbconvert_exporter": "python",
   "pygments_lexer": "ipython3",
   "version": "3.10.4"
  }
 },
 "nbformat": 4,
 "nbformat_minor": 5
}
