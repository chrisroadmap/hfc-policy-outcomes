{
 "cells": [
  {
   "cell_type": "markdown",
   "id": "3bd1fb58",
   "metadata": {},
   "source": [
    "# Download large input datasets\n",
    "\n",
    "This will download the RCMIP emissions dataset and FaIR v1.6.2 parameter sets use in IPCC AR6 Working Group 1 and 3 reports. These large datasets are not committed."
   ]
  },
  {
   "cell_type": "code",
   "execution_count": null,
   "id": "22079d84",
   "metadata": {},
   "outputs": [],
   "source": [
    "from climateforcing.utils import mkdir_p, check_and_download"
   ]
  },
  {
   "cell_type": "code",
   "execution_count": null,
   "id": "9617d4f0",
   "metadata": {},
   "outputs": [],
   "source": [
    "mkdir_p('../data_input_large/')"
   ]
  },
  {
   "cell_type": "code",
   "execution_count": null,
   "id": "198488d7",
   "metadata": {},
   "outputs": [],
   "source": [
    "# NOTE: if you are going to actually download this emissions file, don't forget to add it to .gitignore!\n",
    "\n",
    "check_and_download(\n",
    "    url='https://zenodo.org/record/4589756/files/rcmip-emissions-annual-means-v5-1-0.csv',\n",
    "    filepath='../data_input_large/'\n",
    ")"
   ]
  },
  {
   "cell_type": "code",
   "execution_count": null,
   "id": "c3c16902",
   "metadata": {},
   "outputs": [],
   "source": [
    "check_and_download(\n",
    "    url='https://zenodo.org/record/5513022/files/fair-1.6.2-wg3-params.json',\n",
    "    filepath='../data_input_large/'\n",
    ")"
   ]
  },
  {
   "cell_type": "code",
   "execution_count": null,
   "id": "f78d74f9",
   "metadata": {},
   "outputs": [],
   "source": []
  }
 ],
 "metadata": {
  "kernelspec": {
   "display_name": "Python 3 (ipykernel)",
   "language": "python",
   "name": "python3"
  },
  "language_info": {
   "codemirror_mode": {
    "name": "ipython",
    "version": 3
   },
   "file_extension": ".py",
   "mimetype": "text/x-python",
   "name": "python",
   "nbconvert_exporter": "python",
   "pygments_lexer": "ipython3",
   "version": "3.10.4"
  }
 },
 "nbformat": 4,
 "nbformat_minor": 5
}
