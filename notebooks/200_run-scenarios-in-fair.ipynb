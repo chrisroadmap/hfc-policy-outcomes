{
 "cells": [
  {
   "cell_type": "markdown",
   "id": "459fc173",
   "metadata": {},
   "source": [
    "# Run scenarios in FaIR\n",
    "\n",
    "Taking the emissions pathways generated in notebook 100, run the scenarios in FaIR and look at forcing and temperature outputs."
   ]
  },
  {
   "cell_type": "code",
   "execution_count": null,
   "id": "f5a1464d",
   "metadata": {},
   "outputs": [],
   "source": [
    "import json\n",
    "from multiprocessing import Pool\n",
    "import platform\n",
    "\n",
    "from climateforcing.utils import mkdir_p\n",
    "import h5py\n",
    "import fair\n",
    "import matplotlib.pyplot as pl\n",
    "import numpy as np\n",
    "import pandas as pd\n",
    "from tqdm import tqdm"
   ]
  },
  {
   "cell_type": "code",
   "execution_count": null,
   "id": "ff10f018",
   "metadata": {},
   "outputs": [],
   "source": [
    "# h5 input/output functions : to add to climateforcing.utils\n",
    "\n",
    "def save_dict_to_hdf5(dic, filename):\n",
    "    \"\"\"\n",
    "    ....\n",
    "    \"\"\"\n",
    "    with h5py.File(filename, 'w') as h5file:\n",
    "        recursively_save_dict_contents_to_group(h5file, '/', dic)\n",
    "\n",
    "def recursively_save_dict_contents_to_group(h5file, path, dic):\n",
    "    \"\"\"\n",
    "    ....\n",
    "    \"\"\"\n",
    "    for key, item in dic.items():\n",
    "        if isinstance(item, (np.ndarray, np.int64, np.float64, str, bytes)):\n",
    "            h5file[path + key] = item\n",
    "        elif isinstance(item, dict):\n",
    "            recursively_save_dict_contents_to_group(h5file, path + key + '/', item)\n",
    "        else:\n",
    "            raise ValueError('Cannot save %s type'%type(item))"
   ]
  },
  {
   "cell_type": "code",
   "execution_count": null,
   "id": "f85265b3",
   "metadata": {},
   "outputs": [],
   "source": [
    "# this config is appropriate for v1.6.x where x >= 2\n",
    "fair.__version__"
   ]
  },
  {
   "cell_type": "code",
   "execution_count": null,
   "id": "dbe0c47a",
   "metadata": {},
   "outputs": [],
   "source": [
    "with open('../data_input_large/fair-1.6.2-wg3-params.json') as f:\n",
    "    config_list = json.load(f)"
   ]
  },
  {
   "cell_type": "code",
   "execution_count": null,
   "id": "0c03c575",
   "metadata": {},
   "outputs": [],
   "source": [
    "emissions_in = {}\n",
    "results_out = {}\n",
    "WORKERS = 3  # set this based on your individual machine - allows parallelisation. nprocessors-1 is a sensible shout."
   ]
  },
  {
   "cell_type": "code",
   "execution_count": null,
   "id": "60474d8e",
   "metadata": {},
   "outputs": [],
   "source": [
    "scenarios = [\"ssp245\", \"baseline\", \"hfc-32\", \"propane\", \"propane-as-slcf\"]"
   ]
  },
  {
   "cell_type": "code",
   "execution_count": null,
   "id": "dade3d6a",
   "metadata": {},
   "outputs": [],
   "source": [
    "for scenario in scenarios:\n",
    "    emissions_in[scenario] = np.loadtxt('../data_output/fair_emissions_files/{}.csv'.format(scenario), delimiter=',')"
   ]
  },
  {
   "cell_type": "markdown",
   "id": "02d36f3c",
   "metadata": {},
   "source": [
    "## convenience function for running FaIR in parallel config with each emission species"
   ]
  },
  {
   "cell_type": "code",
   "execution_count": null,
   "id": "a3ed8911",
   "metadata": {},
   "outputs": [],
   "source": [
    "def run_fair(args):\n",
    "    thisC, thisF, thisT, _, thisOHU, _, thisAF = fair.forward.fair_scm(**args)\n",
    "    return (thisT, thisF[:,7], thisF[:,9], thisF[:,22], thisF[:,31], np.sum(thisF, axis=1))\n",
    "\n",
    "def fair_process(emissions):\n",
    "    updated_config = []\n",
    "    for i, cfg in enumerate(config_list):\n",
    "        updated_config.append({})\n",
    "        for key, value in cfg.items():\n",
    "            if isinstance(value, list):\n",
    "                updated_config[i][key] = np.asarray(value)\n",
    "            else:\n",
    "                updated_config[i][key] = value\n",
    "        updated_config[i]['emissions'] = emissions\n",
    "        updated_config[i]['diagnostics'] = 'AR6'\n",
    "        updated_config[i][\"efficacy\"] = np.ones(45)\n",
    "        updated_config[i][\"gir_carbon_cycle\"] = True\n",
    "        updated_config[i][\"temperature_function\"] = \"Geoffroy\"\n",
    "        updated_config[i][\"aerosol_forcing\"] = \"aerocom+ghan2\"\n",
    "        updated_config[i][\"fixPre1850RCP\"] = False\n",
    "    #    updated_config[i][\"scale\"][43] = 0.6\n",
    "        updated_config[i][\"F_solar\"][270:] = 0\n",
    "        \n",
    "    # multiprocessing is not working for me on Windows\n",
    "#    if platform.system() == 'Windows':\n",
    "    shape = (361, len(updated_config))\n",
    "    t = np.ones(shape) * np.nan\n",
    "    f_hfc32 = np.ones(shape) * np.nan\n",
    "    f_hfc125 = np.ones(shape) * np.nan\n",
    "    f_hcfc22 = np.ones(shape) * np.nan\n",
    "    f_o3 = np.ones(shape) * np.nan\n",
    "    f_tot = np.ones(shape) * np.nan\n",
    "    for i, cfg in tqdm(enumerate(updated_config), total=len(updated_config), position=0, leave=True):\n",
    "        t[:,i], f_hfc32[:,i], f_hfc125[:,i], f_hcfc22[:,i], f_o3[:,i], f_tot[:,i] = run_fair(updated_config[i])\n",
    "    \n",
    "#    else:\n",
    "#        if __name__ == '__main__':\n",
    "#            with Pool(WORKERS) as pool:\n",
    "#                result = list(tqdm(pool.imap(run_fair, updated_config), total=len(updated_config), position=0, leave=True))\n",
    "#\n",
    "#        result_t = np.array(result).transpose(1,2,0)\n",
    "#        t, f_hfc32, f_hfc125, f_hfc22, f_o3, f_tot = result_t\n",
    "    temp_rebase = t - t[100:151,:].mean(axis=0)\n",
    "    \n",
    "    return temp_rebase, f_hfc32, f_hfc125, f_hcfc22, f_o3, f_tot"
   ]
  },
  {
   "cell_type": "markdown",
   "id": "bb401a69",
   "metadata": {},
   "source": [
    "## Do the runs"
   ]
  },
  {
   "cell_type": "code",
   "execution_count": null,
   "id": "f2fd4959",
   "metadata": {},
   "outputs": [],
   "source": [
    "for scenario in tqdm(scenarios, position=0, leave=True):\n",
    "    results_out[scenario] = {}\n",
    "    (\n",
    "        results_out[scenario]['temperature (relative to 1850-1900)'],\n",
    "        results_out[scenario]['HFC32 radiative forcing'],\n",
    "        results_out[scenario]['HFC125 radiative forcing'],\n",
    "        results_out[scenario]['HCFC22 radiative forcing'],\n",
    "        results_out[scenario]['O3 radiative forcing'],\n",
    "        results_out[scenario]['total radiative forcing']\n",
    "    ) = fair_process(emissions_in[scenario])"
   ]
  },
  {
   "cell_type": "code",
   "execution_count": null,
   "id": "477856ab",
   "metadata": {},
   "outputs": [],
   "source": [
    "mkdir_p('../data_output_large/')\n",
    "save_dict_to_hdf5(results_out, '../data_output_large/fair-ensemble.h5')"
   ]
  },
  {
   "cell_type": "code",
   "execution_count": null,
   "id": "9b385748",
   "metadata": {},
   "outputs": [],
   "source": []
  }
 ],
 "metadata": {
  "kernelspec": {
   "display_name": "Python 3 (ipykernel)",
   "language": "python",
   "name": "python3"
  },
  "language_info": {
   "codemirror_mode": {
    "name": "ipython",
    "version": 3
   },
   "file_extension": ".py",
   "mimetype": "text/x-python",
   "name": "python",
   "nbconvert_exporter": "python",
   "pygments_lexer": "ipython3",
   "version": "3.10.4"
  }
 },
 "nbformat": 4,
 "nbformat_minor": 5
}
